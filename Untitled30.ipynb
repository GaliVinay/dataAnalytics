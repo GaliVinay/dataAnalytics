{
 "cells": [
  {
   "cell_type": "code",
   "execution_count": 83,
   "id": "1ed3219c-18a9-4b8d-9cfd-a9590569cf1a",
   "metadata": {},
   "outputs": [],
   "source": [
    "def sol(a):\n",
    "   \n",
    "    sum = 0\n",
    "    for i in range(len(a)) :\n",
    "        for j in range(len(a)):\n",
    "                if j ==i or i==len(a)-1 :\n",
    "                   sum += a[i][j]\n",
    "           \n",
    "     \n",
    "\n",
    "    return sum\n",
    "                \n",
    "                \n",
    "        "
   ]
  },
  {
   "cell_type": "code",
   "execution_count": 89,
   "id": "02d1d728-2d6b-4cc6-978b-e27ca595de40",
   "metadata": {},
   "outputs": [],
   "source": [
    "def sol(a):\n",
    "    n = len(a)\n",
    "    total_sum = 0\n",
    "    \n",
    "    # Summing the primary and secondary diagonals\n",
    "    for i in range(n):\n",
    "        total_sum += a[i][i]  # Primary diagonal\n",
    "        if i != n - i - 1:  # Avoid double counting center element\n",
    "            total_sum += a[i][n - i - 1]  # Secondary diagonal\n",
    "\n",
    "    # Adding the first and last elements of the last row (excluding double count)\n",
    "    if n - 1 != 0:  # Check to ensure the last row is not the same as a diagonal element\n",
    "        total_sum += a[n - 1][0]  # First column, last row\n",
    "        total_sum += a[n - 1][n - 1]  # Last column, last row\n",
    "\n",
    "    return total_sum\n",
    "\n",
    "\n"
   ]
  },
  {
   "cell_type": "code",
   "execution_count": 91,
   "id": "6c335e4c-e3a3-4b85-81cc-c9d78ad6b47a",
   "metadata": {},
   "outputs": [
    {
     "name": "stdout",
     "output_type": "stream",
     "text": [
      "48\n"
     ]
    }
   ],
   "source": [
    "# Example test case\n",
    "matrix = [\n",
    "    [2, 3, 4],\n",
    "    [5, 6, 7],\n",
    "    [8, 9, 10]\n",
    "]\n",
    "\n",
    "print(sol(matrix))  # Output: 39"
   ]
  },
  {
   "cell_type": "code",
   "execution_count": 93,
   "id": "e1e29f04-a0cd-4486-adb4-1a8c8c536ff0",
   "metadata": {},
   "outputs": [
    {
     "data": {
      "text/plain": [
       "list"
      ]
     },
     "execution_count": 93,
     "metadata": {},
     "output_type": "execute_result"
    }
   ],
   "source": [
    "type(matrix)"
   ]
  },
  {
   "cell_type": "code",
   "execution_count": 85,
   "id": "fec6bc00-ab41-4bba-bd9d-618f2ce93e08",
   "metadata": {},
   "outputs": [
    {
     "data": {
      "text/plain": [
       "3"
      ]
     },
     "execution_count": 85,
     "metadata": {},
     "output_type": "execute_result"
    }
   ],
   "source": [
    "\n",
    "a = [[2,3,4],[5,6,7],[8,9,10]]\n",
    "len(a)"
   ]
  },
  {
   "cell_type": "code",
   "execution_count": 87,
   "id": "6a955c0c-997d-4ce8-96c5-061453be6d6c",
   "metadata": {},
   "outputs": [
    {
     "data": {
      "text/plain": [
       "35"
      ]
     },
     "execution_count": 87,
     "metadata": {},
     "output_type": "execute_result"
    }
   ],
   "source": [
    "sol(a)"
   ]
  },
  {
   "cell_type": "code",
   "execution_count": 109,
   "id": "f1a67bc3-7771-4ee3-a321-cc88be9cf19c",
   "metadata": {},
   "outputs": [
    {
     "ename": "IndentationError",
     "evalue": "unindent does not match any outer indentation level (<string>, line 8)",
     "output_type": "error",
     "traceback": [
      "\u001b[1;36m  File \u001b[1;32m<string>:8\u001b[1;36m\u001b[0m\n\u001b[1;33m    print(f\"vinay1: {total_sum}\")  # More readable and efficient\u001b[0m\n\u001b[1;37m                                                                ^\u001b[0m\n\u001b[1;31mIndentationError\u001b[0m\u001b[1;31m:\u001b[0m unindent does not match any outer indentation level\n"
     ]
    }
   ],
   "source": [
    "def sol(a):\n",
    "    n = len(a)\n",
    "    total_sum = 0\n",
    "    \n",
    "    # Summing the primary and secondary diagonals\n",
    "    for i in range(n):\n",
    "        total_sum += a[i][i]  # Primary diagonal\n",
    "       print(f\"vinay1: {total_sum}\")  # More readable and efficient\n",
    "\n",
    "        if i != n - i - 1:  # Avoid double counting center element\n",
    "            total_sum += a[i][n - i - 1]  # Secondary diagonal\n",
    "           print(f\"vinay22: {total_sum}\")  # More readable and efficient\n",
    "\n",
    "\n",
    "    return total_sum\n",
    "    \n"
   ]
  },
  {
   "cell_type": "code",
   "execution_count": 106,
   "id": "b5a5cab7-a0f4-415f-be51-55d0145fa0c6",
   "metadata": {},
   "outputs": [
    {
     "name": "stdout",
     "output_type": "stream",
     "text": [
      "vinay1+<built-in function sum>\n",
      "v2<built-in function sum>\n",
      "vinay1+<built-in function sum>\n",
      "vinay1+<built-in function sum>\n",
      "v2<built-in function sum>\n",
      "30\n"
     ]
    }
   ],
   "source": [
    "# Example test case\n",
    "matrix = [\n",
    "    [2, 3, 4],\n",
    "    [5, 6, 7],\n",
    "    [8, 9, 10]\n",
    "]\n",
    "\n",
    "print(sol(matrix))  # Output: 30\n"
   ]
  },
  {
   "cell_type": "code",
   "execution_count": null,
   "id": "ed4c89e0-077d-4e22-9767-959be9ecb39c",
   "metadata": {},
   "outputs": [],
   "source": []
  },
  {
   "cell_type": "code",
   "execution_count": null,
   "id": "ec152e06-da74-47a0-81d6-65a9eb4f8fed",
   "metadata": {},
   "outputs": [],
   "source": []
  }
 ],
 "metadata": {
  "kernelspec": {
   "display_name": "Python [conda env:base] *",
   "language": "python",
   "name": "conda-base-py"
  },
  "language_info": {
   "codemirror_mode": {
    "name": "ipython",
    "version": 3
   },
   "file_extension": ".py",
   "mimetype": "text/x-python",
   "name": "python",
   "nbconvert_exporter": "python",
   "pygments_lexer": "ipython3",
   "version": "3.12.3"
  }
 },
 "nbformat": 4,
 "nbformat_minor": 5
}
