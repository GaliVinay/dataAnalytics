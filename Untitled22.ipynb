{
 "cells": [
  {
   "cell_type": "code",
   "execution_count": 7,
   "id": "5d0e1606-1e30-48fa-b8b7-b03d5b2d7a32",
   "metadata": {},
   "outputs": [
    {
     "name": "stdout",
     "output_type": "stream",
     "text": [
      "      Name  Age  Salary\n",
      "0    Alice   25   50000\n",
      "1      Bob   30   60000\n",
      "2  Charlie   35   70000\n",
      "   ID     Name  Age\n",
      "0   1    Alice   25\n",
      "1   2      Bob   30\n",
      "2   3  Charlie   35\n",
      "          A         B         C\n",
      "0  0.302687  0.598019  0.898748\n",
      "1  0.377448  0.090654  0.509706\n",
      "2  0.770309  0.340742  0.308947\n"
     ]
    }
   ],
   "source": [
    "import pandas as pd\n",
    "\n",
    "# Creating a DataFrame from a dictionary\n",
    "data = {\n",
    "    'Name': ['Alice', 'Bob', 'Charlie'],\n",
    "    'Age': [25, 30, 35],\n",
    "    'Salary': [50000, 60000, 70000]\n",
    "}\n",
    "df = pd.DataFrame(data)\n",
    "print(df)\n",
    "\n",
    "# Creating a DataFrame from a list of lists\n",
    "df_list = pd.DataFrame([[1, 'Alice', 25], [2, 'Bob', 30], [3, 'Charlie', 35]], \n",
    "                        columns=['ID', 'Name', 'Age'])\n",
    "print(df_list)\n",
    "\n",
    "# Creating a DataFrame from a numpy array\n",
    "import numpy as np\n",
    "array = np.random.rand(3, 3)\n",
    "df_array = pd.DataFrame(array, columns=['A', 'B', 'C'])\n",
    "print(df_array)\n"
   ]
  },
  {
   "cell_type": "code",
   "execution_count": 3,
   "id": "490ac6be-e15f-42a4-b438-27fc958d7d50",
   "metadata": {},
   "outputs": [
    {
     "data": {
      "text/plain": [
       "pandas.core.frame.DataFrame"
      ]
     },
     "execution_count": 3,
     "metadata": {},
     "output_type": "execute_result"
    }
   ],
   "source": [
    "type(df)"
   ]
  },
  {
   "cell_type": "code",
   "execution_count": 13,
   "id": "3773b214-87eb-4c18-bbd4-d627630cbd76",
   "metadata": {},
   "outputs": [
    {
     "name": "stdout",
     "output_type": "stream",
     "text": [
      "60000\n"
     ]
    }
   ],
   "source": [
    "print(df.iloc[1, 2])"
   ]
  },
  {
   "cell_type": "code",
   "execution_count": 21,
   "id": "9c816ed3-244c-4bb6-8a95-637b49841ff1",
   "metadata": {},
   "outputs": [],
   "source": [
    "df['Department'] = ['HR', 'IT','vinay']  # Add a new column"
   ]
  },
  {
   "cell_type": "code",
   "execution_count": 23,
   "id": "a0bf58de-5939-4df2-9229-906e77e9136a",
   "metadata": {},
   "outputs": [
    {
     "data": {
      "text/html": [
       "<div>\n",
       "<style scoped>\n",
       "    .dataframe tbody tr th:only-of-type {\n",
       "        vertical-align: middle;\n",
       "    }\n",
       "\n",
       "    .dataframe tbody tr th {\n",
       "        vertical-align: top;\n",
       "    }\n",
       "\n",
       "    .dataframe thead th {\n",
       "        text-align: right;\n",
       "    }\n",
       "</style>\n",
       "<table border=\"1\" class=\"dataframe\">\n",
       "  <thead>\n",
       "    <tr style=\"text-align: right;\">\n",
       "      <th></th>\n",
       "      <th>Name</th>\n",
       "      <th>Age</th>\n",
       "      <th>Salary</th>\n",
       "      <th>Department</th>\n",
       "    </tr>\n",
       "  </thead>\n",
       "  <tbody>\n",
       "    <tr>\n",
       "      <th>0</th>\n",
       "      <td>Alice</td>\n",
       "      <td>25</td>\n",
       "      <td>50000</td>\n",
       "      <td>HR</td>\n",
       "    </tr>\n",
       "    <tr>\n",
       "      <th>1</th>\n",
       "      <td>Bob</td>\n",
       "      <td>30</td>\n",
       "      <td>60000</td>\n",
       "      <td>IT</td>\n",
       "    </tr>\n",
       "    <tr>\n",
       "      <th>2</th>\n",
       "      <td>Charlie</td>\n",
       "      <td>35</td>\n",
       "      <td>70000</td>\n",
       "      <td>vinay</td>\n",
       "    </tr>\n",
       "  </tbody>\n",
       "</table>\n",
       "</div>"
      ],
      "text/plain": [
       "      Name  Age  Salary Department\n",
       "0    Alice   25   50000         HR\n",
       "1      Bob   30   60000         IT\n",
       "2  Charlie   35   70000      vinay"
      ]
     },
     "execution_count": 23,
     "metadata": {},
     "output_type": "execute_result"
    }
   ],
   "source": [
    "df"
   ]
  },
  {
   "cell_type": "code",
   "execution_count": 25,
   "id": "bda94da4-0226-47db-bac1-c8313c05ff9f",
   "metadata": {},
   "outputs": [
    {
     "data": {
      "text/html": [
       "<div>\n",
       "<style scoped>\n",
       "    .dataframe tbody tr th:only-of-type {\n",
       "        vertical-align: middle;\n",
       "    }\n",
       "\n",
       "    .dataframe tbody tr th {\n",
       "        vertical-align: top;\n",
       "    }\n",
       "\n",
       "    .dataframe thead th {\n",
       "        text-align: right;\n",
       "    }\n",
       "</style>\n",
       "<table border=\"1\" class=\"dataframe\">\n",
       "  <thead>\n",
       "    <tr style=\"text-align: right;\">\n",
       "      <th></th>\n",
       "      <th>Name</th>\n",
       "      <th>Age</th>\n",
       "      <th>Salary</th>\n",
       "      <th>Department</th>\n",
       "    </tr>\n",
       "  </thead>\n",
       "  <tbody>\n",
       "    <tr>\n",
       "      <th>0</th>\n",
       "      <td>Alice</td>\n",
       "      <td>25</td>\n",
       "      <td>50000</td>\n",
       "      <td>HR</td>\n",
       "    </tr>\n",
       "    <tr>\n",
       "      <th>1</th>\n",
       "      <td>Bob</td>\n",
       "      <td>30</td>\n",
       "      <td>60000</td>\n",
       "      <td>IT</td>\n",
       "    </tr>\n",
       "    <tr>\n",
       "      <th>2</th>\n",
       "      <td>Charlie</td>\n",
       "      <td>35</td>\n",
       "      <td>70000</td>\n",
       "      <td>vinay</td>\n",
       "    </tr>\n",
       "    <tr>\n",
       "      <th>3</th>\n",
       "      <td>David</td>\n",
       "      <td>88</td>\n",
       "      <td>8457</td>\n",
       "      <td>vinay</td>\n",
       "    </tr>\n",
       "  </tbody>\n",
       "</table>\n",
       "</div>"
      ],
      "text/plain": [
       "      Name  Age  Salary Department\n",
       "0    Alice   25   50000         HR\n",
       "1      Bob   30   60000         IT\n",
       "2  Charlie   35   70000      vinay\n",
       "3    David   88    8457      vinay"
      ]
     },
     "execution_count": 25,
     "metadata": {},
     "output_type": "execute_result"
    }
   ],
   "source": [
    "df.loc[len(df)] = ['David', 88, 8457, 'vinay']\n",
    "\n",
    "df"
   ]
  },
  {
   "cell_type": "code",
   "execution_count": 31,
   "id": "a55efdb7-b881-4a31-9916-5701b8f4035d",
   "metadata": {},
   "outputs": [
    {
     "name": "stdout",
     "output_type": "stream",
     "text": [
      "Original DataFrame:\n",
      "        Name  Maths  Science  English\n",
      "S1    Alice     85       80       75\n",
      "S2      Bob     90       85       80\n",
      "S3  Charlie     95       90       85\n",
      "\n",
      "DataFrame after column-wise operation (row-wise mean):\n",
      "        Name  Maths  Science  English  Average\n",
      "S1    Alice     85       80       75     80.0\n",
      "S2      Bob     90       85       80     85.0\n",
      "S3  Charlie     95       90       85     90.0\n",
      "\n",
      "DataFrame after row-wise operation (column-wise sum):\n",
      "           Name  Maths  Science  English  Average\n",
      "S1       Alice   85.0     80.0     75.0     80.0\n",
      "S2         Bob   90.0     85.0     80.0     85.0\n",
      "S3     Charlie   95.0     90.0     85.0     90.0\n",
      "Total      NaN  270.0    255.0    240.0    255.0\n"
     ]
    }
   ],
   "source": [
    "\n",
    "\n",
    "# Creating a sample DataFrame\n",
    "data = {\n",
    "    'Name': ['Alice', 'Bob', 'Charlie'],\n",
    "    'Maths': [85, 90, 95],\n",
    "    'Science': [80, 85, 90],\n",
    "    'English': [75, 80, 85]\n",
    "}\n",
    "df = pd.DataFrame(data, index=['S1', 'S2', 'S3'])  # Setting custom row index\n",
    "print(\"Original DataFrame:\\n\", df)\n",
    "\n",
    "# Column-wise operation (Calculating average score per subject)\n",
    "df['Average'] = df[['Maths', 'Science', 'English']].mean(axis=1)\n",
    "print(\"\\nDataFrame after column-wise operation (row-wise mean):\\n\", df)\n",
    "\n",
    "# Row-wise operation (Calculating total score per student)\n",
    "df.loc['Total'] = df.iloc[:, 1:].sum()  # Summing up all subject columns\n",
    "print(\"\\nDataFrame after row-wise operation (column-wise sum):\\n\", df)\n"
   ]
  },
  {
   "cell_type": "code",
   "execution_count": null,
   "id": "18d498f6-7799-4c51-b4ce-e4ce9e415efe",
   "metadata": {},
   "outputs": [],
   "source": []
  }
 ],
 "metadata": {
  "kernelspec": {
   "display_name": "Python [conda env:base] *",
   "language": "python",
   "name": "conda-base-py"
  },
  "language_info": {
   "codemirror_mode": {
    "name": "ipython",
    "version": 3
   },
   "file_extension": ".py",
   "mimetype": "text/x-python",
   "name": "python",
   "nbconvert_exporter": "python",
   "pygments_lexer": "ipython3",
   "version": "3.12.3"
  }
 },
 "nbformat": 4,
 "nbformat_minor": 5
}
