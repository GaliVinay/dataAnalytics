{
 "cells": [
  {
   "cell_type": "code",
   "execution_count": 7,
   "id": "c63f438f-5a31-4869-9189-14fe6bd103ee",
   "metadata": {},
   "outputs": [],
   "source": [
    "import pandas as pd\n",
    "import numpy as np"
   ]
  },
  {
   "cell_type": "code",
   "execution_count": 11,
   "id": "fa21c9f2-880d-47c8-8639-691701cf5b8a",
   "metadata": {},
   "outputs": [
    {
     "data": {
      "text/plain": [
       "array([[-1.81986384,  1.76736774, -0.33042178,  2.08166067, -0.35260573],\n",
       "       [ 1.39224707, -1.73758012,  0.22897552, -1.24718062, -0.85931833],\n",
       "       [-0.59161302,  0.00963517, -0.98095801, -1.7872598 ,  1.21619389],\n",
       "       [ 1.05937917, -1.7114285 , -0.20361289,  1.09061927, -0.89424679]])"
      ]
     },
     "execution_count": 11,
     "metadata": {},
     "output_type": "execute_result"
    }
   ],
   "source": [
    "np.random.randn(4,5)"
   ]
  },
  {
   "cell_type": "code",
   "execution_count": 47,
   "id": "61ef3155-51d7-4940-822b-641d0e137061",
   "metadata": {},
   "outputs": [],
   "source": [
    "df = pd.DataFrame(np.random.randn(4,5),index = ['a','b','c','d'] , columns=['a','b','c','d','e'])"
   ]
  },
  {
   "cell_type": "code",
   "execution_count": 49,
   "id": "0c82b1e0-2c3c-45f0-969f-d14cd339e380",
   "metadata": {},
   "outputs": [
    {
     "data": {
      "text/html": [
       "<div>\n",
       "<style scoped>\n",
       "    .dataframe tbody tr th:only-of-type {\n",
       "        vertical-align: middle;\n",
       "    }\n",
       "\n",
       "    .dataframe tbody tr th {\n",
       "        vertical-align: top;\n",
       "    }\n",
       "\n",
       "    .dataframe thead th {\n",
       "        text-align: right;\n",
       "    }\n",
       "</style>\n",
       "<table border=\"1\" class=\"dataframe\">\n",
       "  <thead>\n",
       "    <tr style=\"text-align: right;\">\n",
       "      <th></th>\n",
       "      <th>a</th>\n",
       "      <th>b</th>\n",
       "      <th>c</th>\n",
       "      <th>d</th>\n",
       "      <th>e</th>\n",
       "    </tr>\n",
       "  </thead>\n",
       "  <tbody>\n",
       "    <tr>\n",
       "      <th>a</th>\n",
       "      <td>-0.038482</td>\n",
       "      <td>0.947599</td>\n",
       "      <td>0.173447</td>\n",
       "      <td>-0.473433</td>\n",
       "      <td>-0.565052</td>\n",
       "    </tr>\n",
       "    <tr>\n",
       "      <th>b</th>\n",
       "      <td>-0.184716</td>\n",
       "      <td>0.304639</td>\n",
       "      <td>-2.188643</td>\n",
       "      <td>0.384302</td>\n",
       "      <td>1.789312</td>\n",
       "    </tr>\n",
       "    <tr>\n",
       "      <th>c</th>\n",
       "      <td>-0.318490</td>\n",
       "      <td>0.035925</td>\n",
       "      <td>-1.263465</td>\n",
       "      <td>0.450886</td>\n",
       "      <td>-1.023521</td>\n",
       "    </tr>\n",
       "    <tr>\n",
       "      <th>d</th>\n",
       "      <td>2.004170</td>\n",
       "      <td>-1.425124</td>\n",
       "      <td>-1.546094</td>\n",
       "      <td>-0.540959</td>\n",
       "      <td>-0.614197</td>\n",
       "    </tr>\n",
       "  </tbody>\n",
       "</table>\n",
       "</div>"
      ],
      "text/plain": [
       "          a         b         c         d         e\n",
       "a -0.038482  0.947599  0.173447 -0.473433 -0.565052\n",
       "b -0.184716  0.304639 -2.188643  0.384302  1.789312\n",
       "c -0.318490  0.035925 -1.263465  0.450886 -1.023521\n",
       "d  2.004170 -1.425124 -1.546094 -0.540959 -0.614197"
      ]
     },
     "execution_count": 49,
     "metadata": {},
     "output_type": "execute_result"
    }
   ],
   "source": [
    "df"
   ]
  },
  {
   "cell_type": "code",
   "execution_count": 51,
   "id": "dcaa0ede-7e7a-478f-992b-98c92b41e7ef",
   "metadata": {},
   "outputs": [
    {
     "data": {
      "text/plain": [
       "Index(['a', 'b', 'c', 'd', 'e'], dtype='object')"
      ]
     },
     "execution_count": 51,
     "metadata": {},
     "output_type": "execute_result"
    }
   ],
   "source": [
    "df.columns"
   ]
  },
  {
   "cell_type": "code",
   "execution_count": 53,
   "id": "2c002ed0-c517-4653-8c19-2317bc4ada91",
   "metadata": {},
   "outputs": [
    {
     "data": {
      "text/plain": [
       "pandas.core.indexes.base.Index"
      ]
     },
     "execution_count": 53,
     "metadata": {},
     "output_type": "execute_result"
    }
   ],
   "source": [
    "type(df.columns)"
   ]
  },
  {
   "cell_type": "code",
   "execution_count": 33,
   "id": "60d4e5eb-b0ab-4a00-9cc1-57c18b7c951a",
   "metadata": {},
   "outputs": [
    {
     "data": {
      "text/html": [
       "<div>\n",
       "<style scoped>\n",
       "    .dataframe tbody tr th:only-of-type {\n",
       "        vertical-align: middle;\n",
       "    }\n",
       "\n",
       "    .dataframe tbody tr th {\n",
       "        vertical-align: top;\n",
       "    }\n",
       "\n",
       "    .dataframe thead th {\n",
       "        text-align: right;\n",
       "    }\n",
       "</style>\n",
       "<table border=\"1\" class=\"dataframe\">\n",
       "  <thead>\n",
       "    <tr style=\"text-align: right;\">\n",
       "      <th></th>\n",
       "      <th>0</th>\n",
       "      <th>1</th>\n",
       "      <th>2</th>\n",
       "      <th>3</th>\n",
       "      <th>4</th>\n",
       "    </tr>\n",
       "  </thead>\n",
       "  <tbody>\n",
       "    <tr>\n",
       "      <th>0</th>\n",
       "      <td>-1.690887</td>\n",
       "      <td>-0.145196</td>\n",
       "      <td>-0.758355</td>\n",
       "      <td>-1.428258</td>\n",
       "      <td>1.224748</td>\n",
       "    </tr>\n",
       "    <tr>\n",
       "      <th>1</th>\n",
       "      <td>0.882643</td>\n",
       "      <td>-0.146566</td>\n",
       "      <td>1.526125</td>\n",
       "      <td>-0.728101</td>\n",
       "      <td>-1.360116</td>\n",
       "    </tr>\n",
       "    <tr>\n",
       "      <th>2</th>\n",
       "      <td>-0.289001</td>\n",
       "      <td>2.261476</td>\n",
       "      <td>2.306897</td>\n",
       "      <td>1.039228</td>\n",
       "      <td>-0.344568</td>\n",
       "    </tr>\n",
       "    <tr>\n",
       "      <th>3</th>\n",
       "      <td>0.858073</td>\n",
       "      <td>0.498915</td>\n",
       "      <td>-0.697287</td>\n",
       "      <td>0.885008</td>\n",
       "      <td>-1.379787</td>\n",
       "    </tr>\n",
       "  </tbody>\n",
       "</table>\n",
       "</div>"
      ],
      "text/plain": [
       "          0         1         2         3         4\n",
       "0 -1.690887 -0.145196 -0.758355 -1.428258  1.224748\n",
       "1  0.882643 -0.146566  1.526125 -0.728101 -1.360116\n",
       "2 -0.289001  2.261476  2.306897  1.039228 -0.344568\n",
       "3  0.858073  0.498915 -0.697287  0.885008 -1.379787"
      ]
     },
     "execution_count": 33,
     "metadata": {},
     "output_type": "execute_result"
    }
   ],
   "source": [
    "df.iloc[:, :]\n"
   ]
  },
  {
   "cell_type": "code",
   "execution_count": 55,
   "id": "b8430689-be9c-4881-95bc-1cbecd90a60b",
   "metadata": {},
   "outputs": [
    {
     "name": "stdout",
     "output_type": "stream",
     "text": [
      "a\n",
      "b\n",
      "c\n",
      "d\n",
      "e\n"
     ]
    }
   ],
   "source": [
    "for i in df.columns:\n",
    "    print(i) "
   ]
  },
  {
   "cell_type": "code",
   "execution_count": 57,
   "id": "d1260e04-ae02-4520-bc46-aeec0bd35e99",
   "metadata": {},
   "outputs": [
    {
     "name": "stdout",
     "output_type": "stream",
     "text": [
      "[-0.03848195  0.94759893  0.17344732 -0.47343318 -0.56505198]\n",
      "[-0.18471608  0.30463863 -2.18864285  0.3843017   1.7893117 ]\n",
      "[-0.31848986  0.03592493 -1.26346452  0.450886   -1.02352072]\n",
      "[ 2.00416964 -1.42512397 -1.54609445 -0.54095904 -0.61419718]\n"
     ]
    }
   ],
   "source": [
    "for j in df.values:\n",
    "    print(j)"
   ]
  },
  {
   "cell_type": "code",
   "execution_count": 59,
   "id": "3667fd91-21e2-4a83-9e9a-942f35c65c9d",
   "metadata": {},
   "outputs": [
    {
     "data": {
      "text/html": [
       "<div>\n",
       "<style scoped>\n",
       "    .dataframe tbody tr th:only-of-type {\n",
       "        vertical-align: middle;\n",
       "    }\n",
       "\n",
       "    .dataframe tbody tr th {\n",
       "        vertical-align: top;\n",
       "    }\n",
       "\n",
       "    .dataframe thead th {\n",
       "        text-align: right;\n",
       "    }\n",
       "</style>\n",
       "<table border=\"1\" class=\"dataframe\">\n",
       "  <thead>\n",
       "    <tr style=\"text-align: right;\">\n",
       "      <th></th>\n",
       "      <th>a</th>\n",
       "      <th>b</th>\n",
       "      <th>c</th>\n",
       "      <th>d</th>\n",
       "      <th>e</th>\n",
       "    </tr>\n",
       "  </thead>\n",
       "  <tbody>\n",
       "    <tr>\n",
       "      <th>a</th>\n",
       "      <td>-0.038482</td>\n",
       "      <td>0.947599</td>\n",
       "      <td>0.173447</td>\n",
       "      <td>-0.473433</td>\n",
       "      <td>-0.565052</td>\n",
       "    </tr>\n",
       "    <tr>\n",
       "      <th>b</th>\n",
       "      <td>-0.184716</td>\n",
       "      <td>0.304639</td>\n",
       "      <td>-2.188643</td>\n",
       "      <td>0.384302</td>\n",
       "      <td>1.789312</td>\n",
       "    </tr>\n",
       "    <tr>\n",
       "      <th>d</th>\n",
       "      <td>2.004170</td>\n",
       "      <td>-1.425124</td>\n",
       "      <td>-1.546094</td>\n",
       "      <td>-0.540959</td>\n",
       "      <td>-0.614197</td>\n",
       "    </tr>\n",
       "  </tbody>\n",
       "</table>\n",
       "</div>"
      ],
      "text/plain": [
       "          a         b         c         d         e\n",
       "a -0.038482  0.947599  0.173447 -0.473433 -0.565052\n",
       "b -0.184716  0.304639 -2.188643  0.384302  1.789312\n",
       "d  2.004170 -1.425124 -1.546094 -0.540959 -0.614197"
      ]
     },
     "execution_count": 59,
     "metadata": {},
     "output_type": "execute_result"
    }
   ],
   "source": [
    "df.iloc[[0,1,3]]"
   ]
  },
  {
   "cell_type": "code",
   "execution_count": 69,
   "id": "f685fe57-7c83-477d-86fc-bf4f566ee547",
   "metadata": {},
   "outputs": [
    {
     "data": {
      "text/html": [
       "<div>\n",
       "<style scoped>\n",
       "    .dataframe tbody tr th:only-of-type {\n",
       "        vertical-align: middle;\n",
       "    }\n",
       "\n",
       "    .dataframe tbody tr th {\n",
       "        vertical-align: top;\n",
       "    }\n",
       "\n",
       "    .dataframe thead th {\n",
       "        text-align: right;\n",
       "    }\n",
       "</style>\n",
       "<table border=\"1\" class=\"dataframe\">\n",
       "  <thead>\n",
       "    <tr style=\"text-align: right;\">\n",
       "      <th></th>\n",
       "      <th>c</th>\n",
       "      <th>d</th>\n",
       "    </tr>\n",
       "  </thead>\n",
       "  <tbody>\n",
       "    <tr>\n",
       "      <th>b</th>\n",
       "      <td>-2.188643</td>\n",
       "      <td>0.384302</td>\n",
       "    </tr>\n",
       "    <tr>\n",
       "      <th>d</th>\n",
       "      <td>-1.546094</td>\n",
       "      <td>-0.540959</td>\n",
       "    </tr>\n",
       "  </tbody>\n",
       "</table>\n",
       "</div>"
      ],
      "text/plain": [
       "          c         d\n",
       "b -2.188643  0.384302\n",
       "d -1.546094 -0.540959"
      ]
     },
     "execution_count": 69,
     "metadata": {},
     "output_type": "execute_result"
    }
   ],
   "source": [
    "df.iloc[[1,3],[2,3]]"
   ]
  },
  {
   "cell_type": "code",
   "execution_count": 73,
   "id": "4c8b0b9a-5b2e-4a91-9720-ec129df66000",
   "metadata": {},
   "outputs": [
    {
     "data": {
      "text/html": [
       "<div>\n",
       "<style scoped>\n",
       "    .dataframe tbody tr th:only-of-type {\n",
       "        vertical-align: middle;\n",
       "    }\n",
       "\n",
       "    .dataframe tbody tr th {\n",
       "        vertical-align: top;\n",
       "    }\n",
       "\n",
       "    .dataframe thead th {\n",
       "        text-align: right;\n",
       "    }\n",
       "</style>\n",
       "<table border=\"1\" class=\"dataframe\">\n",
       "  <thead>\n",
       "    <tr style=\"text-align: right;\">\n",
       "      <th></th>\n",
       "      <th>a</th>\n",
       "      <th>c</th>\n",
       "    </tr>\n",
       "  </thead>\n",
       "  <tbody>\n",
       "    <tr>\n",
       "      <th>b</th>\n",
       "      <td>-0.184716</td>\n",
       "      <td>-2.188643</td>\n",
       "    </tr>\n",
       "    <tr>\n",
       "      <th>c</th>\n",
       "      <td>-0.318490</td>\n",
       "      <td>-1.263465</td>\n",
       "    </tr>\n",
       "  </tbody>\n",
       "</table>\n",
       "</div>"
      ],
      "text/plain": [
       "          a         c\n",
       "b -0.184716 -2.188643\n",
       "c -0.318490 -1.263465"
      ]
     },
     "execution_count": 73,
     "metadata": {},
     "output_type": "execute_result"
    }
   ],
   "source": [
    "df.loc[['b','c'],['a','c']]"
   ]
  },
  {
   "cell_type": "code",
   "execution_count": 107,
   "id": "2114f545-5355-4dbc-a563-a29d64546cb2",
   "metadata": {},
   "outputs": [
    {
     "data": {
      "text/plain": [
       "[array([[ True, False, False,  True,  True],\n",
       "        [ True, False,  True, False, False],\n",
       "        [ True, False,  True, False,  True],\n",
       "        [False,  True,  True,  True,  True]])]"
      ]
     },
     "execution_count": 107,
     "metadata": {},
     "output_type": "execute_result"
    }
   ],
   "source": [
    "[df.values <=0]"
   ]
  },
  {
   "cell_type": "code",
   "execution_count": 111,
   "id": "7e809633-3a78-48de-96f5-f5be4e1ff403",
   "metadata": {},
   "outputs": [
    {
     "data": {
      "text/plain": [
       "array([-0.03848195, -0.47343318, -0.56505198, -0.18471608, -2.18864285,\n",
       "       -0.31848986, -1.26346452, -1.02352072, -1.42512397, -1.54609445,\n",
       "       -0.54095904, -0.61419718])"
      ]
     },
     "execution_count": 111,
     "metadata": {},
     "output_type": "execute_result"
    }
   ],
   "source": [
    "df.values[df.values <=0]"
   ]
  },
  {
   "cell_type": "code",
   "execution_count": 113,
   "id": "c50e7e7f-f621-4dc3-b44b-651a42d4ed94",
   "metadata": {},
   "outputs": [
    {
     "data": {
      "text/plain": [
       "numpy.ndarray"
      ]
     },
     "execution_count": 113,
     "metadata": {},
     "output_type": "execute_result"
    }
   ],
   "source": [
    "type(df.values[df.values <=0])"
   ]
  },
  {
   "cell_type": "code",
   "execution_count": 121,
   "id": "82851c1c-4068-4ee7-8e89-1bac750bc8d2",
   "metadata": {},
   "outputs": [
    {
     "data": {
      "text/plain": [
       "array([-0.03848195, -0.47343318, -0.56505198, -0.18471608, -2.18864285,\n",
       "       -0.31848986, -1.26346452, -1.02352072, -1.42512397, -1.54609445,\n",
       "       -0.54095904, -0.61419718])"
      ]
     },
     "execution_count": 121,
     "metadata": {},
     "output_type": "execute_result"
    }
   ],
   "source": [
    "df.values[df.iloc[0:5]<0]"
   ]
  },
  {
   "cell_type": "code",
   "execution_count": 129,
   "id": "489a5e6d-79c2-4f15-a852-f65b6b0d3b07",
   "metadata": {},
   "outputs": [
    {
     "name": "stdout",
     "output_type": "stream",
     "text": [
      "a\n",
      "b\n",
      "c\n",
      "d\n"
     ]
    }
   ],
   "source": [
    " for i in df.index:\n",
    "     print(i)"
   ]
  },
  {
   "cell_type": "code",
   "execution_count": 131,
   "id": "481841af-72ed-45fc-a1af-ff5fd6eca61e",
   "metadata": {},
   "outputs": [
    {
     "name": "stdout",
     "output_type": "stream",
     "text": [
      "a\n",
      "b\n",
      "c\n",
      "d\n",
      "e\n"
     ]
    }
   ],
   "source": [
    "for j in df.columns:\n",
    "    print(j)"
   ]
  },
  {
   "cell_type": "code",
   "execution_count": 135,
   "id": "88f3e6de-a33f-4d1b-9373-e9e066aee638",
   "metadata": {},
   "outputs": [
    {
     "name": "stdout",
     "output_type": "stream",
     "text": [
      "a a -0.03848194789311186\n",
      "a d -0.47343317766297033\n",
      "a e -0.5650519788244609\n",
      "b a -0.18471607735600937\n",
      "b c -2.1886428516738845\n",
      "c a -0.3184898610835709\n",
      "c c -1.2634645186752191\n",
      "c e -1.0235207164744533\n",
      "d b -1.425123970777239\n",
      "d c -1.5460944463552988\n",
      "d d -0.5409590417710598\n",
      "d e -0.6141971781345176\n"
     ]
    }
   ],
   "source": [
    "for i in df.index:\n",
    "    for j in df.columns:\n",
    "        if df.loc[i, j] < 0:  # Correct way to access elements\n",
    "            print(i, j, df.loc[i, j])\n",
    "\n",
    "           \n",
    "    "
   ]
  },
  {
   "cell_type": "code",
   "execution_count": 147,
   "id": "4a71ab88-8ac1-4c70-9e1b-f7a4149cbc95",
   "metadata": {},
   "outputs": [
    {
     "data": {
      "text/plain": [
       "0.3010299956639812"
      ]
     },
     "execution_count": 147,
     "metadata": {},
     "output_type": "execute_result"
    }
   ],
   "source": [
    "import math \n",
    "math.log10(2)\n"
   ]
  },
  {
   "cell_type": "code",
   "execution_count": 149,
   "id": "496cb000-dbe6-46ed-b3fa-57ccc30ead4c",
   "metadata": {},
   "outputs": [
    {
     "data": {
      "text/plain": [
       "1.0"
      ]
     },
     "execution_count": 149,
     "metadata": {},
     "output_type": "execute_result"
    }
   ],
   "source": [
    "math.log2(2)\n"
   ]
  },
  {
   "cell_type": "code",
   "execution_count": 151,
   "id": "69fef49a-092d-4b0f-a119-2c5e2ff5c3a3",
   "metadata": {},
   "outputs": [
    {
     "data": {
      "text/plain": [
       "0.6931471805599453"
      ]
     },
     "execution_count": 151,
     "metadata": {},
     "output_type": "execute_result"
    }
   ],
   "source": [
    "math.log(2)"
   ]
  },
  {
   "cell_type": "code",
   "execution_count": 153,
   "id": "fc46d271-b030-4fb8-9153-fcc3a1ced817",
   "metadata": {},
   "outputs": [
    {
     "data": {
      "text/plain": [
       "1.0986122886681098"
      ]
     },
     "execution_count": 153,
     "metadata": {},
     "output_type": "execute_result"
    }
   ],
   "source": [
    "math.log1p(2)"
   ]
  },
  {
   "cell_type": "code",
   "execution_count": 155,
   "id": "501cf27c-7936-4939-a843-8aa90d0ce01f",
   "metadata": {},
   "outputs": [
    {
     "data": {
      "text/plain": [
       "array([1, 2, 3, 4])"
      ]
     },
     "execution_count": 155,
     "metadata": {},
     "output_type": "execute_result"
    }
   ],
   "source": [
    "np.arange(1,5)"
   ]
  },
  {
   "cell_type": "code",
   "execution_count": 159,
   "id": "d2d43088-6db7-4704-a7b7-b9df2e7afb44",
   "metadata": {},
   "outputs": [],
   "source": [
    "d = np.arange(1.5,5,0.6)"
   ]
  },
  {
   "cell_type": "code",
   "execution_count": 163,
   "id": "65e2e8b4-b62d-4445-b41c-2657ac081488",
   "metadata": {},
   "outputs": [
    {
     "data": {
      "text/plain": [
       "array([[1.5, 2.1, 2.7],\n",
       "       [3.3, 3.9, 4.5]])"
      ]
     },
     "execution_count": 163,
     "metadata": {},
     "output_type": "execute_result"
    }
   ],
   "source": [
    "d.reshape(2,3)"
   ]
  },
  {
   "cell_type": "code",
   "execution_count": 167,
   "id": "3cecdc09-e4a7-468d-8b6b-cb534b8b1c89",
   "metadata": {},
   "outputs": [
    {
     "data": {
      "text/plain": [
       "array([2. , 2.5, 3. , 3.5, 4. ])"
      ]
     },
     "execution_count": 167,
     "metadata": {},
     "output_type": "execute_result"
    }
   ],
   "source": [
    "np.linspace(2,4,5)"
   ]
  },
  {
   "cell_type": "code",
   "execution_count": 173,
   "id": "04cac74a-8da8-4583-84a8-e9f01f4f2936",
   "metadata": {},
   "outputs": [
    {
     "data": {
      "text/plain": [
       "array([ 100.        ,  104.81131342,  109.8541142 ,  115.13953993,\n",
       "        120.67926406,  126.48552169,  132.57113656,  138.94954944,\n",
       "        145.63484775,  152.64179672,  159.98587196,  167.68329368,\n",
       "        175.75106249,  184.20699693,  193.06977289,  202.35896477,\n",
       "        212.09508879,  222.29964825,  232.99518105,  244.20530945,\n",
       "        255.95479227,  268.26957953,  281.1768698 ,  294.70517026,\n",
       "        308.88435965,  323.74575428,  339.32217719,  355.64803062,\n",
       "        372.75937203,  390.69399371,  409.49150624,  429.19342601,\n",
       "        449.8432669 ,  471.48663635,  494.17133613,  517.94746792,\n",
       "        542.86754393,  568.9866029 ,  596.36233166,  625.05519253,\n",
       "        655.12855686,  686.648845  ,  719.685673  ,  754.31200634,\n",
       "        790.60432109,  828.64277285,  868.51137375,  910.29817799,\n",
       "        954.09547635, 1000.        ])"
      ]
     },
     "execution_count": 173,
     "metadata": {},
     "output_type": "execute_result"
    }
   ],
   "source": [
    "np.logspace(2,3)"
   ]
  },
  {
   "cell_type": "code",
   "execution_count": 175,
   "id": "10159c94-c879-4312-86b8-247d08f57b71",
   "metadata": {},
   "outputs": [],
   "source": [
    "arr = np.random.randint(2,100,(4,4))"
   ]
  },
  {
   "cell_type": "code",
   "execution_count": 177,
   "id": "322dea1f-ee89-4cdd-b1ed-d4b6bca5009e",
   "metadata": {},
   "outputs": [
    {
     "data": {
      "text/plain": [
       "array([[45, 17, 88, 85],\n",
       "       [60, 27, 68, 76],\n",
       "       [37, 98, 58, 15],\n",
       "       [62, 24, 40, 33]])"
      ]
     },
     "execution_count": 177,
     "metadata": {},
     "output_type": "execute_result"
    }
   ],
   "source": [
    "arr"
   ]
  },
  {
   "cell_type": "code",
   "execution_count": 179,
   "id": "99905ca7-ea95-4293-aa4d-b8d908180eb8",
   "metadata": {},
   "outputs": [
    {
     "data": {
      "text/plain": [
       "array([[17, 88],\n",
       "       [27, 68],\n",
       "       [98, 58],\n",
       "       [24, 40]])"
      ]
     },
     "execution_count": 179,
     "metadata": {},
     "output_type": "execute_result"
    }
   ],
   "source": [
    "arr[:,[1,2]]"
   ]
  },
  {
   "cell_type": "code",
   "execution_count": 191,
   "id": "2662b8e8-ef62-46ff-9cd7-c1a2ab6192e1",
   "metadata": {},
   "outputs": [
    {
     "data": {
      "text/plain": [
       "array([[45, 17],\n",
       "       [60, 27]])"
      ]
     },
     "execution_count": 191,
     "metadata": {},
     "output_type": "execute_result"
    }
   ],
   "source": [
    "arr[:2,:2]"
   ]
  },
  {
   "cell_type": "code",
   "execution_count": 205,
   "id": "e905c256-502b-4b22-ac73-24d849c1b93d",
   "metadata": {},
   "outputs": [],
   "source": [
    "df= pd.DataFrame(np.random.rand(8,5),index = range(8),columns=['a','b','c','d','e'])"
   ]
  },
  {
   "cell_type": "code",
   "execution_count": 207,
   "id": "7e4013f0-35ec-4508-a04e-1dd772489744",
   "metadata": {},
   "outputs": [
    {
     "data": {
      "text/html": [
       "<div>\n",
       "<style scoped>\n",
       "    .dataframe tbody tr th:only-of-type {\n",
       "        vertical-align: middle;\n",
       "    }\n",
       "\n",
       "    .dataframe tbody tr th {\n",
       "        vertical-align: top;\n",
       "    }\n",
       "\n",
       "    .dataframe thead th {\n",
       "        text-align: right;\n",
       "    }\n",
       "</style>\n",
       "<table border=\"1\" class=\"dataframe\">\n",
       "  <thead>\n",
       "    <tr style=\"text-align: right;\">\n",
       "      <th></th>\n",
       "      <th>a</th>\n",
       "      <th>b</th>\n",
       "      <th>c</th>\n",
       "      <th>d</th>\n",
       "      <th>e</th>\n",
       "    </tr>\n",
       "  </thead>\n",
       "  <tbody>\n",
       "    <tr>\n",
       "      <th>0</th>\n",
       "      <td>0.759282</td>\n",
       "      <td>0.272440</td>\n",
       "      <td>0.465636</td>\n",
       "      <td>0.724480</td>\n",
       "      <td>0.082832</td>\n",
       "    </tr>\n",
       "    <tr>\n",
       "      <th>1</th>\n",
       "      <td>0.849127</td>\n",
       "      <td>0.720649</td>\n",
       "      <td>0.990482</td>\n",
       "      <td>0.445845</td>\n",
       "      <td>0.253202</td>\n",
       "    </tr>\n",
       "    <tr>\n",
       "      <th>2</th>\n",
       "      <td>0.160920</td>\n",
       "      <td>0.870727</td>\n",
       "      <td>0.687740</td>\n",
       "      <td>0.380203</td>\n",
       "      <td>0.228233</td>\n",
       "    </tr>\n",
       "    <tr>\n",
       "      <th>3</th>\n",
       "      <td>0.781706</td>\n",
       "      <td>0.974815</td>\n",
       "      <td>0.880240</td>\n",
       "      <td>0.253356</td>\n",
       "      <td>0.627126</td>\n",
       "    </tr>\n",
       "    <tr>\n",
       "      <th>4</th>\n",
       "      <td>0.494852</td>\n",
       "      <td>0.072941</td>\n",
       "      <td>0.545279</td>\n",
       "      <td>0.871609</td>\n",
       "      <td>0.030062</td>\n",
       "    </tr>\n",
       "    <tr>\n",
       "      <th>5</th>\n",
       "      <td>0.088825</td>\n",
       "      <td>0.314704</td>\n",
       "      <td>0.007228</td>\n",
       "      <td>0.185492</td>\n",
       "      <td>0.874363</td>\n",
       "    </tr>\n",
       "    <tr>\n",
       "      <th>6</th>\n",
       "      <td>0.187282</td>\n",
       "      <td>0.637876</td>\n",
       "      <td>0.645924</td>\n",
       "      <td>0.182989</td>\n",
       "      <td>0.644722</td>\n",
       "    </tr>\n",
       "    <tr>\n",
       "      <th>7</th>\n",
       "      <td>0.139818</td>\n",
       "      <td>0.676880</td>\n",
       "      <td>0.940316</td>\n",
       "      <td>0.315917</td>\n",
       "      <td>0.078241</td>\n",
       "    </tr>\n",
       "  </tbody>\n",
       "</table>\n",
       "</div>"
      ],
      "text/plain": [
       "          a         b         c         d         e\n",
       "0  0.759282  0.272440  0.465636  0.724480  0.082832\n",
       "1  0.849127  0.720649  0.990482  0.445845  0.253202\n",
       "2  0.160920  0.870727  0.687740  0.380203  0.228233\n",
       "3  0.781706  0.974815  0.880240  0.253356  0.627126\n",
       "4  0.494852  0.072941  0.545279  0.871609  0.030062\n",
       "5  0.088825  0.314704  0.007228  0.185492  0.874363\n",
       "6  0.187282  0.637876  0.645924  0.182989  0.644722\n",
       "7  0.139818  0.676880  0.940316  0.315917  0.078241"
      ]
     },
     "execution_count": 207,
     "metadata": {},
     "output_type": "execute_result"
    }
   ],
   "source": [
    "df"
   ]
  },
  {
   "cell_type": "code",
   "execution_count": 213,
   "id": "01f6cf48-0331-4053-8e90-9613a3d2d560",
   "metadata": {},
   "outputs": [],
   "source": [
    "df['new'] = df['c'] + df['d']"
   ]
  },
  {
   "cell_type": "code",
   "execution_count": 215,
   "id": "0e1ffbb6-5579-4432-8b76-2a2c1ecc19f3",
   "metadata": {},
   "outputs": [
    {
     "data": {
      "text/html": [
       "<div>\n",
       "<style scoped>\n",
       "    .dataframe tbody tr th:only-of-type {\n",
       "        vertical-align: middle;\n",
       "    }\n",
       "\n",
       "    .dataframe tbody tr th {\n",
       "        vertical-align: top;\n",
       "    }\n",
       "\n",
       "    .dataframe thead th {\n",
       "        text-align: right;\n",
       "    }\n",
       "</style>\n",
       "<table border=\"1\" class=\"dataframe\">\n",
       "  <thead>\n",
       "    <tr style=\"text-align: right;\">\n",
       "      <th></th>\n",
       "      <th>a</th>\n",
       "      <th>b</th>\n",
       "      <th>c</th>\n",
       "      <th>d</th>\n",
       "      <th>e</th>\n",
       "      <th>new</th>\n",
       "    </tr>\n",
       "  </thead>\n",
       "  <tbody>\n",
       "    <tr>\n",
       "      <th>0</th>\n",
       "      <td>0.759282</td>\n",
       "      <td>0.272440</td>\n",
       "      <td>0.465636</td>\n",
       "      <td>0.724480</td>\n",
       "      <td>0.082832</td>\n",
       "      <td>1.190116</td>\n",
       "    </tr>\n",
       "    <tr>\n",
       "      <th>1</th>\n",
       "      <td>0.849127</td>\n",
       "      <td>0.720649</td>\n",
       "      <td>0.990482</td>\n",
       "      <td>0.445845</td>\n",
       "      <td>0.253202</td>\n",
       "      <td>1.436326</td>\n",
       "    </tr>\n",
       "    <tr>\n",
       "      <th>2</th>\n",
       "      <td>0.160920</td>\n",
       "      <td>0.870727</td>\n",
       "      <td>0.687740</td>\n",
       "      <td>0.380203</td>\n",
       "      <td>0.228233</td>\n",
       "      <td>1.067943</td>\n",
       "    </tr>\n",
       "    <tr>\n",
       "      <th>3</th>\n",
       "      <td>0.781706</td>\n",
       "      <td>0.974815</td>\n",
       "      <td>0.880240</td>\n",
       "      <td>0.253356</td>\n",
       "      <td>0.627126</td>\n",
       "      <td>1.133596</td>\n",
       "    </tr>\n",
       "    <tr>\n",
       "      <th>4</th>\n",
       "      <td>0.494852</td>\n",
       "      <td>0.072941</td>\n",
       "      <td>0.545279</td>\n",
       "      <td>0.871609</td>\n",
       "      <td>0.030062</td>\n",
       "      <td>1.416888</td>\n",
       "    </tr>\n",
       "    <tr>\n",
       "      <th>5</th>\n",
       "      <td>0.088825</td>\n",
       "      <td>0.314704</td>\n",
       "      <td>0.007228</td>\n",
       "      <td>0.185492</td>\n",
       "      <td>0.874363</td>\n",
       "      <td>0.192720</td>\n",
       "    </tr>\n",
       "    <tr>\n",
       "      <th>6</th>\n",
       "      <td>0.187282</td>\n",
       "      <td>0.637876</td>\n",
       "      <td>0.645924</td>\n",
       "      <td>0.182989</td>\n",
       "      <td>0.644722</td>\n",
       "      <td>0.828913</td>\n",
       "    </tr>\n",
       "    <tr>\n",
       "      <th>7</th>\n",
       "      <td>0.139818</td>\n",
       "      <td>0.676880</td>\n",
       "      <td>0.940316</td>\n",
       "      <td>0.315917</td>\n",
       "      <td>0.078241</td>\n",
       "      <td>1.256233</td>\n",
       "    </tr>\n",
       "  </tbody>\n",
       "</table>\n",
       "</div>"
      ],
      "text/plain": [
       "          a         b         c         d         e       new\n",
       "0  0.759282  0.272440  0.465636  0.724480  0.082832  1.190116\n",
       "1  0.849127  0.720649  0.990482  0.445845  0.253202  1.436326\n",
       "2  0.160920  0.870727  0.687740  0.380203  0.228233  1.067943\n",
       "3  0.781706  0.974815  0.880240  0.253356  0.627126  1.133596\n",
       "4  0.494852  0.072941  0.545279  0.871609  0.030062  1.416888\n",
       "5  0.088825  0.314704  0.007228  0.185492  0.874363  0.192720\n",
       "6  0.187282  0.637876  0.645924  0.182989  0.644722  0.828913\n",
       "7  0.139818  0.676880  0.940316  0.315917  0.078241  1.256233"
      ]
     },
     "execution_count": 215,
     "metadata": {},
     "output_type": "execute_result"
    }
   ],
   "source": [
    "df"
   ]
  },
  {
   "cell_type": "code",
   "execution_count": 225,
   "id": "1f1d3b81-4325-4aa4-9a83-3d800cc1bcc2",
   "metadata": {},
   "outputs": [],
   "source": [
    "df['log'] = df['e'].apply(np.log10)"
   ]
  },
  {
   "cell_type": "code",
   "execution_count": 227,
   "id": "5ffd1cb3-480b-4aee-914b-5e77eeca2cf9",
   "metadata": {},
   "outputs": [
    {
     "data": {
      "text/html": [
       "<div>\n",
       "<style scoped>\n",
       "    .dataframe tbody tr th:only-of-type {\n",
       "        vertical-align: middle;\n",
       "    }\n",
       "\n",
       "    .dataframe tbody tr th {\n",
       "        vertical-align: top;\n",
       "    }\n",
       "\n",
       "    .dataframe thead th {\n",
       "        text-align: right;\n",
       "    }\n",
       "</style>\n",
       "<table border=\"1\" class=\"dataframe\">\n",
       "  <thead>\n",
       "    <tr style=\"text-align: right;\">\n",
       "      <th></th>\n",
       "      <th>a</th>\n",
       "      <th>b</th>\n",
       "      <th>c</th>\n",
       "      <th>d</th>\n",
       "      <th>e</th>\n",
       "      <th>new</th>\n",
       "      <th>log</th>\n",
       "    </tr>\n",
       "  </thead>\n",
       "  <tbody>\n",
       "    <tr>\n",
       "      <th>0</th>\n",
       "      <td>0.759282</td>\n",
       "      <td>0.272440</td>\n",
       "      <td>0.465636</td>\n",
       "      <td>0.724480</td>\n",
       "      <td>0.082832</td>\n",
       "      <td>1.190116</td>\n",
       "      <td>-1.081803</td>\n",
       "    </tr>\n",
       "    <tr>\n",
       "      <th>1</th>\n",
       "      <td>0.849127</td>\n",
       "      <td>0.720649</td>\n",
       "      <td>0.990482</td>\n",
       "      <td>0.445845</td>\n",
       "      <td>0.253202</td>\n",
       "      <td>1.436326</td>\n",
       "      <td>-0.596533</td>\n",
       "    </tr>\n",
       "    <tr>\n",
       "      <th>2</th>\n",
       "      <td>0.160920</td>\n",
       "      <td>0.870727</td>\n",
       "      <td>0.687740</td>\n",
       "      <td>0.380203</td>\n",
       "      <td>0.228233</td>\n",
       "      <td>1.067943</td>\n",
       "      <td>-0.641622</td>\n",
       "    </tr>\n",
       "    <tr>\n",
       "      <th>3</th>\n",
       "      <td>0.781706</td>\n",
       "      <td>0.974815</td>\n",
       "      <td>0.880240</td>\n",
       "      <td>0.253356</td>\n",
       "      <td>0.627126</td>\n",
       "      <td>1.133596</td>\n",
       "      <td>-0.202645</td>\n",
       "    </tr>\n",
       "    <tr>\n",
       "      <th>4</th>\n",
       "      <td>0.494852</td>\n",
       "      <td>0.072941</td>\n",
       "      <td>0.545279</td>\n",
       "      <td>0.871609</td>\n",
       "      <td>0.030062</td>\n",
       "      <td>1.416888</td>\n",
       "      <td>-1.521983</td>\n",
       "    </tr>\n",
       "    <tr>\n",
       "      <th>5</th>\n",
       "      <td>0.088825</td>\n",
       "      <td>0.314704</td>\n",
       "      <td>0.007228</td>\n",
       "      <td>0.185492</td>\n",
       "      <td>0.874363</td>\n",
       "      <td>0.192720</td>\n",
       "      <td>-0.058308</td>\n",
       "    </tr>\n",
       "    <tr>\n",
       "      <th>6</th>\n",
       "      <td>0.187282</td>\n",
       "      <td>0.637876</td>\n",
       "      <td>0.645924</td>\n",
       "      <td>0.182989</td>\n",
       "      <td>0.644722</td>\n",
       "      <td>0.828913</td>\n",
       "      <td>-0.190628</td>\n",
       "    </tr>\n",
       "    <tr>\n",
       "      <th>7</th>\n",
       "      <td>0.139818</td>\n",
       "      <td>0.676880</td>\n",
       "      <td>0.940316</td>\n",
       "      <td>0.315917</td>\n",
       "      <td>0.078241</td>\n",
       "      <td>1.256233</td>\n",
       "      <td>-1.106566</td>\n",
       "    </tr>\n",
       "  </tbody>\n",
       "</table>\n",
       "</div>"
      ],
      "text/plain": [
       "          a         b         c         d         e       new       log\n",
       "0  0.759282  0.272440  0.465636  0.724480  0.082832  1.190116 -1.081803\n",
       "1  0.849127  0.720649  0.990482  0.445845  0.253202  1.436326 -0.596533\n",
       "2  0.160920  0.870727  0.687740  0.380203  0.228233  1.067943 -0.641622\n",
       "3  0.781706  0.974815  0.880240  0.253356  0.627126  1.133596 -0.202645\n",
       "4  0.494852  0.072941  0.545279  0.871609  0.030062  1.416888 -1.521983\n",
       "5  0.088825  0.314704  0.007228  0.185492  0.874363  0.192720 -0.058308\n",
       "6  0.187282  0.637876  0.645924  0.182989  0.644722  0.828913 -0.190628\n",
       "7  0.139818  0.676880  0.940316  0.315917  0.078241  1.256233 -1.106566"
      ]
     },
     "execution_count": 227,
     "metadata": {},
     "output_type": "execute_result"
    }
   ],
   "source": [
    "df"
   ]
  },
  {
   "cell_type": "code",
   "execution_count": 229,
   "id": "076ebbf1-faf4-41e9-a77e-a2c61ea41d5b",
   "metadata": {},
   "outputs": [],
   "source": [
    "df['vi'] = df['a'].apply(lambda x : x**2)"
   ]
  },
  {
   "cell_type": "code",
   "execution_count": 231,
   "id": "5ddec83b-38be-405a-996a-4fa68b5fd18e",
   "metadata": {},
   "outputs": [
    {
     "data": {
      "text/html": [
       "<div>\n",
       "<style scoped>\n",
       "    .dataframe tbody tr th:only-of-type {\n",
       "        vertical-align: middle;\n",
       "    }\n",
       "\n",
       "    .dataframe tbody tr th {\n",
       "        vertical-align: top;\n",
       "    }\n",
       "\n",
       "    .dataframe thead th {\n",
       "        text-align: right;\n",
       "    }\n",
       "</style>\n",
       "<table border=\"1\" class=\"dataframe\">\n",
       "  <thead>\n",
       "    <tr style=\"text-align: right;\">\n",
       "      <th></th>\n",
       "      <th>a</th>\n",
       "      <th>b</th>\n",
       "      <th>c</th>\n",
       "      <th>d</th>\n",
       "      <th>e</th>\n",
       "      <th>new</th>\n",
       "      <th>log</th>\n",
       "      <th>vi</th>\n",
       "    </tr>\n",
       "  </thead>\n",
       "  <tbody>\n",
       "    <tr>\n",
       "      <th>0</th>\n",
       "      <td>0.759282</td>\n",
       "      <td>0.272440</td>\n",
       "      <td>0.465636</td>\n",
       "      <td>0.724480</td>\n",
       "      <td>0.082832</td>\n",
       "      <td>1.190116</td>\n",
       "      <td>-1.081803</td>\n",
       "      <td>0.576510</td>\n",
       "    </tr>\n",
       "    <tr>\n",
       "      <th>1</th>\n",
       "      <td>0.849127</td>\n",
       "      <td>0.720649</td>\n",
       "      <td>0.990482</td>\n",
       "      <td>0.445845</td>\n",
       "      <td>0.253202</td>\n",
       "      <td>1.436326</td>\n",
       "      <td>-0.596533</td>\n",
       "      <td>0.721017</td>\n",
       "    </tr>\n",
       "    <tr>\n",
       "      <th>2</th>\n",
       "      <td>0.160920</td>\n",
       "      <td>0.870727</td>\n",
       "      <td>0.687740</td>\n",
       "      <td>0.380203</td>\n",
       "      <td>0.228233</td>\n",
       "      <td>1.067943</td>\n",
       "      <td>-0.641622</td>\n",
       "      <td>0.025895</td>\n",
       "    </tr>\n",
       "    <tr>\n",
       "      <th>3</th>\n",
       "      <td>0.781706</td>\n",
       "      <td>0.974815</td>\n",
       "      <td>0.880240</td>\n",
       "      <td>0.253356</td>\n",
       "      <td>0.627126</td>\n",
       "      <td>1.133596</td>\n",
       "      <td>-0.202645</td>\n",
       "      <td>0.611064</td>\n",
       "    </tr>\n",
       "    <tr>\n",
       "      <th>4</th>\n",
       "      <td>0.494852</td>\n",
       "      <td>0.072941</td>\n",
       "      <td>0.545279</td>\n",
       "      <td>0.871609</td>\n",
       "      <td>0.030062</td>\n",
       "      <td>1.416888</td>\n",
       "      <td>-1.521983</td>\n",
       "      <td>0.244878</td>\n",
       "    </tr>\n",
       "    <tr>\n",
       "      <th>5</th>\n",
       "      <td>0.088825</td>\n",
       "      <td>0.314704</td>\n",
       "      <td>0.007228</td>\n",
       "      <td>0.185492</td>\n",
       "      <td>0.874363</td>\n",
       "      <td>0.192720</td>\n",
       "      <td>-0.058308</td>\n",
       "      <td>0.007890</td>\n",
       "    </tr>\n",
       "    <tr>\n",
       "      <th>6</th>\n",
       "      <td>0.187282</td>\n",
       "      <td>0.637876</td>\n",
       "      <td>0.645924</td>\n",
       "      <td>0.182989</td>\n",
       "      <td>0.644722</td>\n",
       "      <td>0.828913</td>\n",
       "      <td>-0.190628</td>\n",
       "      <td>0.035075</td>\n",
       "    </tr>\n",
       "    <tr>\n",
       "      <th>7</th>\n",
       "      <td>0.139818</td>\n",
       "      <td>0.676880</td>\n",
       "      <td>0.940316</td>\n",
       "      <td>0.315917</td>\n",
       "      <td>0.078241</td>\n",
       "      <td>1.256233</td>\n",
       "      <td>-1.106566</td>\n",
       "      <td>0.019549</td>\n",
       "    </tr>\n",
       "  </tbody>\n",
       "</table>\n",
       "</div>"
      ],
      "text/plain": [
       "          a         b         c         d         e       new       log  \\\n",
       "0  0.759282  0.272440  0.465636  0.724480  0.082832  1.190116 -1.081803   \n",
       "1  0.849127  0.720649  0.990482  0.445845  0.253202  1.436326 -0.596533   \n",
       "2  0.160920  0.870727  0.687740  0.380203  0.228233  1.067943 -0.641622   \n",
       "3  0.781706  0.974815  0.880240  0.253356  0.627126  1.133596 -0.202645   \n",
       "4  0.494852  0.072941  0.545279  0.871609  0.030062  1.416888 -1.521983   \n",
       "5  0.088825  0.314704  0.007228  0.185492  0.874363  0.192720 -0.058308   \n",
       "6  0.187282  0.637876  0.645924  0.182989  0.644722  0.828913 -0.190628   \n",
       "7  0.139818  0.676880  0.940316  0.315917  0.078241  1.256233 -1.106566   \n",
       "\n",
       "         vi  \n",
       "0  0.576510  \n",
       "1  0.721017  \n",
       "2  0.025895  \n",
       "3  0.611064  \n",
       "4  0.244878  \n",
       "5  0.007890  \n",
       "6  0.035075  \n",
       "7  0.019549  "
      ]
     },
     "execution_count": 231,
     "metadata": {},
     "output_type": "execute_result"
    }
   ],
   "source": [
    "df"
   ]
  },
  {
   "cell_type": "code",
   "execution_count": 239,
   "id": "3a308982-3473-43b2-8282-24fa1711e478",
   "metadata": {},
   "outputs": [
    {
     "data": {
      "text/plain": [
       "0    0.759282\n",
       "1    0.849127\n",
       "2    0.160920\n",
       "3    0.781706\n",
       "4    0.494852\n",
       "5    0.088825\n",
       "6    0.187282\n",
       "7    0.139818\n",
       "Name: vinay, dtype: float64"
      ]
     },
     "execution_count": 239,
     "metadata": {},
     "output_type": "execute_result"
    }
   ],
   "source": [
    "df.rename('vinay',inplace=True)"
   ]
  },
  {
   "cell_type": "code",
   "execution_count": 241,
   "id": "24d2b737-c2ee-4d40-9ad5-4f79c5cce3e4",
   "metadata": {},
   "outputs": [
    {
     "data": {
      "text/html": [
       "<div>\n",
       "<style scoped>\n",
       "    .dataframe tbody tr th:only-of-type {\n",
       "        vertical-align: middle;\n",
       "    }\n",
       "\n",
       "    .dataframe tbody tr th {\n",
       "        vertical-align: top;\n",
       "    }\n",
       "\n",
       "    .dataframe thead th {\n",
       "        text-align: right;\n",
       "    }\n",
       "</style>\n",
       "<table border=\"1\" class=\"dataframe\">\n",
       "  <thead>\n",
       "    <tr style=\"text-align: right;\">\n",
       "      <th></th>\n",
       "      <th>a</th>\n",
       "      <th>b</th>\n",
       "      <th>c</th>\n",
       "      <th>d</th>\n",
       "      <th>e</th>\n",
       "      <th>new</th>\n",
       "      <th>log</th>\n",
       "      <th>vi</th>\n",
       "    </tr>\n",
       "  </thead>\n",
       "  <tbody>\n",
       "    <tr>\n",
       "      <th>0</th>\n",
       "      <td>0.759282</td>\n",
       "      <td>0.272440</td>\n",
       "      <td>0.465636</td>\n",
       "      <td>0.724480</td>\n",
       "      <td>0.082832</td>\n",
       "      <td>1.190116</td>\n",
       "      <td>-1.081803</td>\n",
       "      <td>0.576510</td>\n",
       "    </tr>\n",
       "    <tr>\n",
       "      <th>1</th>\n",
       "      <td>0.849127</td>\n",
       "      <td>0.720649</td>\n",
       "      <td>0.990482</td>\n",
       "      <td>0.445845</td>\n",
       "      <td>0.253202</td>\n",
       "      <td>1.436326</td>\n",
       "      <td>-0.596533</td>\n",
       "      <td>0.721017</td>\n",
       "    </tr>\n",
       "    <tr>\n",
       "      <th>2</th>\n",
       "      <td>0.160920</td>\n",
       "      <td>0.870727</td>\n",
       "      <td>0.687740</td>\n",
       "      <td>0.380203</td>\n",
       "      <td>0.228233</td>\n",
       "      <td>1.067943</td>\n",
       "      <td>-0.641622</td>\n",
       "      <td>0.025895</td>\n",
       "    </tr>\n",
       "    <tr>\n",
       "      <th>3</th>\n",
       "      <td>0.781706</td>\n",
       "      <td>0.974815</td>\n",
       "      <td>0.880240</td>\n",
       "      <td>0.253356</td>\n",
       "      <td>0.627126</td>\n",
       "      <td>1.133596</td>\n",
       "      <td>-0.202645</td>\n",
       "      <td>0.611064</td>\n",
       "    </tr>\n",
       "    <tr>\n",
       "      <th>4</th>\n",
       "      <td>0.494852</td>\n",
       "      <td>0.072941</td>\n",
       "      <td>0.545279</td>\n",
       "      <td>0.871609</td>\n",
       "      <td>0.030062</td>\n",
       "      <td>1.416888</td>\n",
       "      <td>-1.521983</td>\n",
       "      <td>0.244878</td>\n",
       "    </tr>\n",
       "    <tr>\n",
       "      <th>5</th>\n",
       "      <td>0.088825</td>\n",
       "      <td>0.314704</td>\n",
       "      <td>0.007228</td>\n",
       "      <td>0.185492</td>\n",
       "      <td>0.874363</td>\n",
       "      <td>0.192720</td>\n",
       "      <td>-0.058308</td>\n",
       "      <td>0.007890</td>\n",
       "    </tr>\n",
       "    <tr>\n",
       "      <th>6</th>\n",
       "      <td>0.187282</td>\n",
       "      <td>0.637876</td>\n",
       "      <td>0.645924</td>\n",
       "      <td>0.182989</td>\n",
       "      <td>0.644722</td>\n",
       "      <td>0.828913</td>\n",
       "      <td>-0.190628</td>\n",
       "      <td>0.035075</td>\n",
       "    </tr>\n",
       "    <tr>\n",
       "      <th>7</th>\n",
       "      <td>0.139818</td>\n",
       "      <td>0.676880</td>\n",
       "      <td>0.940316</td>\n",
       "      <td>0.315917</td>\n",
       "      <td>0.078241</td>\n",
       "      <td>1.256233</td>\n",
       "      <td>-1.106566</td>\n",
       "      <td>0.019549</td>\n",
       "    </tr>\n",
       "  </tbody>\n",
       "</table>\n",
       "</div>"
      ],
      "text/plain": [
       "          a         b         c         d         e       new       log  \\\n",
       "0  0.759282  0.272440  0.465636  0.724480  0.082832  1.190116 -1.081803   \n",
       "1  0.849127  0.720649  0.990482  0.445845  0.253202  1.436326 -0.596533   \n",
       "2  0.160920  0.870727  0.687740  0.380203  0.228233  1.067943 -0.641622   \n",
       "3  0.781706  0.974815  0.880240  0.253356  0.627126  1.133596 -0.202645   \n",
       "4  0.494852  0.072941  0.545279  0.871609  0.030062  1.416888 -1.521983   \n",
       "5  0.088825  0.314704  0.007228  0.185492  0.874363  0.192720 -0.058308   \n",
       "6  0.187282  0.637876  0.645924  0.182989  0.644722  0.828913 -0.190628   \n",
       "7  0.139818  0.676880  0.940316  0.315917  0.078241  1.256233 -1.106566   \n",
       "\n",
       "         vi  \n",
       "0  0.576510  \n",
       "1  0.721017  \n",
       "2  0.025895  \n",
       "3  0.611064  \n",
       "4  0.244878  \n",
       "5  0.007890  \n",
       "6  0.035075  \n",
       "7  0.019549  "
      ]
     },
     "execution_count": 241,
     "metadata": {},
     "output_type": "execute_result"
    }
   ],
   "source": [
    "df"
   ]
  },
  {
   "cell_type": "code",
   "execution_count": 263,
   "id": "8b581d4c-3b72-40a2-8cd1-25cef85130ee",
   "metadata": {},
   "outputs": [],
   "source": [
    "import pandas as pd\n",
    "df.index =pd.date_range('2025-01-09',periods=len(df))"
   ]
  },
  {
   "cell_type": "code",
   "execution_count": 265,
   "id": "e3e41b07-76e7-44bd-aea2-414c99417dea",
   "metadata": {},
   "outputs": [
    {
     "data": {
      "text/html": [
       "<div>\n",
       "<style scoped>\n",
       "    .dataframe tbody tr th:only-of-type {\n",
       "        vertical-align: middle;\n",
       "    }\n",
       "\n",
       "    .dataframe tbody tr th {\n",
       "        vertical-align: top;\n",
       "    }\n",
       "\n",
       "    .dataframe thead th {\n",
       "        text-align: right;\n",
       "    }\n",
       "</style>\n",
       "<table border=\"1\" class=\"dataframe\">\n",
       "  <thead>\n",
       "    <tr style=\"text-align: right;\">\n",
       "      <th></th>\n",
       "      <th>a</th>\n",
       "      <th>b</th>\n",
       "      <th>c</th>\n",
       "      <th>d</th>\n",
       "      <th>e</th>\n",
       "      <th>new</th>\n",
       "      <th>log</th>\n",
       "      <th>vi</th>\n",
       "    </tr>\n",
       "  </thead>\n",
       "  <tbody>\n",
       "    <tr>\n",
       "      <th>2025-01-09</th>\n",
       "      <td>0.759282</td>\n",
       "      <td>0.272440</td>\n",
       "      <td>0.465636</td>\n",
       "      <td>0.724480</td>\n",
       "      <td>0.082832</td>\n",
       "      <td>1.190116</td>\n",
       "      <td>-1.081803</td>\n",
       "      <td>0.576510</td>\n",
       "    </tr>\n",
       "    <tr>\n",
       "      <th>2025-01-10</th>\n",
       "      <td>0.849127</td>\n",
       "      <td>0.720649</td>\n",
       "      <td>0.990482</td>\n",
       "      <td>0.445845</td>\n",
       "      <td>0.253202</td>\n",
       "      <td>1.436326</td>\n",
       "      <td>-0.596533</td>\n",
       "      <td>0.721017</td>\n",
       "    </tr>\n",
       "    <tr>\n",
       "      <th>2025-01-11</th>\n",
       "      <td>0.160920</td>\n",
       "      <td>0.870727</td>\n",
       "      <td>0.687740</td>\n",
       "      <td>0.380203</td>\n",
       "      <td>0.228233</td>\n",
       "      <td>1.067943</td>\n",
       "      <td>-0.641622</td>\n",
       "      <td>0.025895</td>\n",
       "    </tr>\n",
       "    <tr>\n",
       "      <th>2025-01-12</th>\n",
       "      <td>0.781706</td>\n",
       "      <td>0.974815</td>\n",
       "      <td>0.880240</td>\n",
       "      <td>0.253356</td>\n",
       "      <td>0.627126</td>\n",
       "      <td>1.133596</td>\n",
       "      <td>-0.202645</td>\n",
       "      <td>0.611064</td>\n",
       "    </tr>\n",
       "    <tr>\n",
       "      <th>2025-01-13</th>\n",
       "      <td>0.494852</td>\n",
       "      <td>0.072941</td>\n",
       "      <td>0.545279</td>\n",
       "      <td>0.871609</td>\n",
       "      <td>0.030062</td>\n",
       "      <td>1.416888</td>\n",
       "      <td>-1.521983</td>\n",
       "      <td>0.244878</td>\n",
       "    </tr>\n",
       "    <tr>\n",
       "      <th>2025-01-14</th>\n",
       "      <td>0.088825</td>\n",
       "      <td>0.314704</td>\n",
       "      <td>0.007228</td>\n",
       "      <td>0.185492</td>\n",
       "      <td>0.874363</td>\n",
       "      <td>0.192720</td>\n",
       "      <td>-0.058308</td>\n",
       "      <td>0.007890</td>\n",
       "    </tr>\n",
       "    <tr>\n",
       "      <th>2025-01-15</th>\n",
       "      <td>0.187282</td>\n",
       "      <td>0.637876</td>\n",
       "      <td>0.645924</td>\n",
       "      <td>0.182989</td>\n",
       "      <td>0.644722</td>\n",
       "      <td>0.828913</td>\n",
       "      <td>-0.190628</td>\n",
       "      <td>0.035075</td>\n",
       "    </tr>\n",
       "    <tr>\n",
       "      <th>2025-01-16</th>\n",
       "      <td>0.139818</td>\n",
       "      <td>0.676880</td>\n",
       "      <td>0.940316</td>\n",
       "      <td>0.315917</td>\n",
       "      <td>0.078241</td>\n",
       "      <td>1.256233</td>\n",
       "      <td>-1.106566</td>\n",
       "      <td>0.019549</td>\n",
       "    </tr>\n",
       "  </tbody>\n",
       "</table>\n",
       "</div>"
      ],
      "text/plain": [
       "                   a         b         c         d         e       new  \\\n",
       "2025-01-09  0.759282  0.272440  0.465636  0.724480  0.082832  1.190116   \n",
       "2025-01-10  0.849127  0.720649  0.990482  0.445845  0.253202  1.436326   \n",
       "2025-01-11  0.160920  0.870727  0.687740  0.380203  0.228233  1.067943   \n",
       "2025-01-12  0.781706  0.974815  0.880240  0.253356  0.627126  1.133596   \n",
       "2025-01-13  0.494852  0.072941  0.545279  0.871609  0.030062  1.416888   \n",
       "2025-01-14  0.088825  0.314704  0.007228  0.185492  0.874363  0.192720   \n",
       "2025-01-15  0.187282  0.637876  0.645924  0.182989  0.644722  0.828913   \n",
       "2025-01-16  0.139818  0.676880  0.940316  0.315917  0.078241  1.256233   \n",
       "\n",
       "                 log        vi  \n",
       "2025-01-09 -1.081803  0.576510  \n",
       "2025-01-10 -0.596533  0.721017  \n",
       "2025-01-11 -0.641622  0.025895  \n",
       "2025-01-12 -0.202645  0.611064  \n",
       "2025-01-13 -1.521983  0.244878  \n",
       "2025-01-14 -0.058308  0.007890  \n",
       "2025-01-15 -0.190628  0.035075  \n",
       "2025-01-16 -1.106566  0.019549  "
      ]
     },
     "execution_count": 265,
     "metadata": {},
     "output_type": "execute_result"
    }
   ],
   "source": [
    "df\n"
   ]
  }
 ],
 "metadata": {
  "kernelspec": {
   "display_name": "Python [conda env:base] *",
   "language": "python",
   "name": "conda-base-py"
  },
  "language_info": {
   "codemirror_mode": {
    "name": "ipython",
    "version": 3
   },
   "file_extension": ".py",
   "mimetype": "text/x-python",
   "name": "python",
   "nbconvert_exporter": "python",
   "pygments_lexer": "ipython3",
   "version": "3.12.3"
  }
 },
 "nbformat": 4,
 "nbformat_minor": 5
}
